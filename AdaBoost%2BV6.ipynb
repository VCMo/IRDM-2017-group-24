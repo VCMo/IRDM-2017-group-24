{
 "cells": [
  {
   "cell_type": "code",
   "execution_count": 18,
   "metadata": {
    "collapsed": false
   },
   "outputs": [
    {
     "name": "stdout",
     "output_type": "stream",
     "text": [
      "MSLR-WEB10K\n",
      "MSLR-WEB30K\n",
      "Ranklib\n",
      "\n"
     ]
    }
   ],
   "source": [
    "import io\n",
    "import os\n",
    "import sys\n",
    "\n",
    "import numpy as np # linear algebra\n",
    "import pandas as pd # data processing, CSV file I/O (e.g. pd.read_csv)\n",
    "import matplotlib.pyplot as plt\n",
    "\n",
    "import itertools\n",
    "import collections\n",
    "import random\n",
    "import tensorflow as tf\n",
    "\n",
    "from sklearn.ensemble import AdaBoostClassifier\n",
    "from sklearn.tree import DecisionTreeClassifier\n",
    "from sklearn.metrics import confusion_matrix\n",
    "from sklearn.metrics import label_ranking_average_precision_score\n",
    "from sklearn.metrics import accuracy_score\n",
    "from sklearn.externals import joblib\n",
    "from sklearn.metrics import f1_score\n",
    "from sklearn.metrics import precision_recall_fscore_support \n",
    "\n",
    "%matplotlib inline\n",
    "\n",
    "from subprocess import check_output\n",
    "print(check_output([\"ls\", \"../input\"]).decode(\"utf8\"))"
   ]
  },
  {
   "cell_type": "code",
   "execution_count": 2,
   "metadata": {
    "collapsed": true
   },
   "outputs": [],
   "source": [
    "def load_txt(foldDir,foldsize,foldnum):\n",
    "    corpusDir = os.path.join('%s%s' % (inputDir,  os.listdir(foldDir)[foldsize]))\n",
    "    dataDir = os.path.join('%s/%s' % (corpusDir, os.listdir(corpusDir)[foldnum]))\n",
    "    trainDir = os.path.join('%s/%s' % (dataDir, \"train.txt\"))\n",
    "    testDir = os.path.join('%s/%s' % (dataDir, \"test.txt\"))\n",
    "    validDir = os.path.join('%s/%s' % (dataDir, \"vali.txt\"))\n",
    "    return [trainDir,testDir ,validDir]\n",
    "\n",
    "# Dropping column with 100% nan values (parsing problem probably)\n",
    "def drop_col(df):\n",
    "    df.drop(df.columns[-1], axis=1, inplace=True)\n",
    "\n",
    "# Cleaning values\n",
    "def split_semicolon(df):\n",
    "    # removes string naming pattern '*:' from values\n",
    "    for col in range(1,len(df.columns)):\n",
    "        df.loc[:,col] = df.loc[:,col].apply(lambda x: str(x).split(':')[1])\n",
    "    df.columns = ['rel', 'qid'] + [str(x) for x in range(1,137)] # renaming cols"
   ]
  },
  {
   "cell_type": "code",
   "execution_count": 3,
   "metadata": {
    "collapsed": false
   },
   "outputs": [],
   "source": [
    "# inputDir = \"../input/\"\n",
    "# dataDir = load_txt(inputDir,1,1)\n",
    "\n",
    "# for dataset in dataDir:\n",
    "#     data = pd.read_csv(dataset, sep=\" \", header = None)\n",
    "#     drop_col(data)\n",
    "#     split_semicolon(data)\n",
    "#     data.to_csv(dataset[0:-4]+'.csv')"
   ]
  },
  {
   "cell_type": "code",
   "execution_count": 4,
   "metadata": {
    "collapsed": false
   },
   "outputs": [],
   "source": [
    "def load_csv(foldDir,foldsize,foldnum):\n",
    "    corpusDir = os.path.join('%s%s' % (inputDir,  os.listdir(foldDir)[foldsize]))\n",
    "    dataDir = os.path.join('%s/%s' % (corpusDir, os.listdir(corpusDir)[foldsize]))\n",
    "    trainDir = os.path.join('%s/%s' % (dataDir, \"train.csv\"))\n",
    "    testDir = os.path.join('%s/%s' % (dataDir, \"test.csv\"))\n",
    "    validDir = os.path.join('%s/%s' % (dataDir, \"vali.csv\"))\n",
    "    return [trainDir,testDir ,validDir]\n",
    "\n",
    "\n",
    "# input data\n",
    "inputDir = \"../input/\"\n",
    "dataDir = load_csv(inputDir,1,1)\n",
    "\n",
    "trainset = pd.read_csv(dataDir[0])\n",
    "trainset.drop(trainset.columns[0], axis=1, inplace=True)\n",
    "testset  = pd.read_csv(dataDir[1])\n",
    "testset.drop(testset.columns[0], axis=1, inplace=True)\n",
    "validset = pd.read_csv(dataDir[2])\n",
    "validset.drop(validset.columns[0], axis=1, inplace=True)\n",
    "\n"
   ]
  },
  {
   "cell_type": "code",
   "execution_count": 5,
   "metadata": {
    "collapsed": false
   },
   "outputs": [],
   "source": [
    "# sort data by qid and rel\n",
    "\n",
    "trainset_sort = trainset.sort_values(by=['qid','rel'],ascending=False)\n",
    "testset_sort = testset.sort_values(by=['qid','rel'],ascending=False)\n",
    "validset_sort = validset.sort_values(by=['qid','rel'],ascending=False)\n",
    "\n",
    "# generate train set, valid set, test set\n",
    "\n",
    "y_train = trainset_sort['rel'].values\n",
    "X_train = trainset_sort.drop(['rel','qid'],axis=1).values\n",
    "\n",
    "y_valid = validset_sort['rel'].values\n",
    "X_valid = validset_sort.drop(['rel','qid'],axis=1).values\n",
    "\n",
    "y_test = testset_sort['rel'].values\n",
    "X_test = testset_sort.drop(['rel','qid'],axis=1).values"
   ]
  },
  {
   "cell_type": "code",
   "execution_count": 17,
   "metadata": {
    "collapsed": false
   },
   "outputs": [
    {
     "name": "stdout",
     "output_type": "stream",
     "text": [
      "CPU times: user 5min 48s, sys: 4.16 s, total: 5min 52s\n",
      "Wall time: 5min 54s\n"
     ]
    },
    {
     "data": {
      "text/plain": [
       "['AdaBoostBase.pkl']"
      ]
     },
     "execution_count": 17,
     "metadata": {},
     "output_type": "execute_result"
    }
   ],
   "source": [
    "AdaBoost = AdaBoostClassifier(algorithm='SAMME.R', base_estimator=None,\n",
    "          learning_rate=1.0, n_estimators=50, random_state=None)\n",
    "%time AdaBoost.fit(X_train,y_train)\n",
    "joblib.dump(AdaBoost, 'AdaBoostBase.pkl') "
   ]
  },
  {
   "cell_type": "code",
   "execution_count": 97,
   "metadata": {
    "collapsed": false
   },
   "outputs": [
    {
     "name": "stdout",
     "output_type": "stream",
     "text": [
      "CPU times: user 2h 28min 32s, sys: 1min 9s, total: 2h 29min 41s\n",
      "Wall time: 3h 31min 2s\n"
     ]
    },
    {
     "data": {
      "text/plain": [
       "['AdaBoostTree_1.pkl']"
      ]
     },
     "execution_count": 97,
     "metadata": {},
     "output_type": "execute_result"
    }
   ],
   "source": [
    "# AdaBoostTree = AdaBoostClassifier( DecisionTreeClassifier(max_depth=5, min_samples_leaf=1),\n",
    "#                                     algorithm='SAMME.R',\n",
    "#                                     learning_rate=0.1, \n",
    "#                                     n_estimators=200, \n",
    "#                                     random_state=None,)\n",
    "\n",
    "# %time AdaBoostTree.fit(X_train,y_train)\n",
    "# joblib.dump(AdaBoostTree, 'AdaBoostTree_1.pkl') "
   ]
  },
  {
   "cell_type": "code",
   "execution_count": null,
   "metadata": {
    "collapsed": false
   },
   "outputs": [],
   "source": [
    "## prediction accuracy on validation set and test set\n",
    "ranker = rankerX\n",
    "%time score = ranker.score(X_valid, y_valid)\n",
    "print ('The socre on validation set : '  + str(score))\n",
    "%time score = ranker.score(X_test, y_test)\n",
    "print ('The socre on test set : '  + str(score))\n",
    "\n",
    "y_valid_predict = ranker.predict(X_valid)\n",
    "y_test_predict = ranker.predict(X_test)"
   ]
  },
  {
   "cell_type": "code",
   "execution_count": 25,
   "metadata": {
    "collapsed": false
   },
   "outputs": [
    {
     "name": "stdout",
     "output_type": "stream",
     "text": [
      "CPU times: user 14.3 s, sys: 3.4 s, total: 17.7 s\n",
      "Wall time: 18.3 s\n",
      "The socre on test set : 0.56399650548\n"
     ]
    }
   ],
   "source": [
    "rankerX = joblib.load('AdaBoostTree.pkl')\n",
    "## prediction accuracy on validation set and test set\n",
    "ranker = rankerX\n",
    "\n",
    "%time score = ranker.score(X_test, y_test)\n",
    "print ('The socre on test set : '  + str(score))\n",
    "\n",
    "y_test_predict = ranker.predict(X_test)"
   ]
  },
  {
   "cell_type": "code",
   "execution_count": null,
   "metadata": {
    "collapsed": true
   },
   "outputs": [],
   "source": []
  },
  {
   "cell_type": "markdown",
   "metadata": {
    "collapsed": true
   },
   "source": [
    "## Learning to Rank Evaluation Metrics\n"
   ]
  },
  {
   "cell_type": "markdown",
   "metadata": {},
   "source": [
    "## Confusion matrix¶"
   ]
  },
  {
   "cell_type": "code",
   "execution_count": 26,
   "metadata": {
    "collapsed": false
   },
   "outputs": [
    {
     "name": "stdout",
     "output_type": "stream",
     "text": [
      "Testset : Confusion matrix, without normalization\n",
      "[[100993  23169    581      5     36]\n",
      " [ 43580  33024   1230     11     51]\n",
      " [ 14258  16092   2052     14     43]\n",
      " [  1803   2080    515     10     42]\n",
      " [   722    953    100     19    138]]\n",
      "fscore: [ 0.71  0.43  0.11  0.    0.12]\n"
     ]
    },
    {
     "data": {
      "image/png": "[encoded data removed]",
      "text/plain": [
       "<matplotlib.figure.Figure at 0x133014978>"
      ]
     },
     "metadata": {},
     "output_type": "display_data"
    }
   ],
   "source": [
    "def plot_confusion_matrix(cm, classes,dataset,\n",
    "                          normalize=False,\n",
    "                          title='Confusion matrix',\n",
    "                          cmap=plt.cm.Blues):\n",
    "\n",
    "    plt.imshow(cm, interpolation='nearest', cmap=cmap)\n",
    "    plt.title(dataset + ' : ' + title)\n",
    "    plt.colorbar()\n",
    "    tick_marks = np.arange(len(classes))\n",
    "    plt.xticks(tick_marks, classes, rotation=45)\n",
    "    plt.yticks(tick_marks, classes)\n",
    "\n",
    "    if normalize:\n",
    "        cm = cm.astype('float') / cm.sum(axis=1)[:, np.newaxis]\n",
    "        print(dataset + \" : Normalized confusion matrix\" )\n",
    "    else:\n",
    "        print(dataset + ' : Confusion matrix, without normalization')\n",
    "\n",
    "    print(cm)\n",
    "\n",
    "    thresh = cm.max() / 2.\n",
    "    for i, j in itertools.product(range(cm.shape[0]), range(cm.shape[1])):\n",
    "        plt.text(j, i, cm[i, j],\n",
    "                 horizontalalignment=\"center\",\n",
    "                 color=\"white\" if cm[i, j] > thresh else \"black\")\n",
    "\n",
    "    plt.tight_layout()\n",
    "    plt.ylabel('True label')\n",
    "    plt.xlabel('Predicted label')\n",
    "    \n",
    "    \n",
    "def CM_metric(target,predict,name):   \n",
    "    cnf_matrix = confusion_matrix(target,predict)\n",
    "    np.set_printoptions(precision=2)\n",
    "\n",
    "    # Plot non-normalized confusion matrix\n",
    "    plt.figure()\n",
    "    plot_confusion_matrix(cnf_matrix, classes='01234',dataset = name, normalize=False,\n",
    "                          title='without normalization')\n",
    "    \n",
    "\n",
    "CM_metric(y_test,y_test_predict,'Testset') \n",
    "precision, recall, fscore, support = precision_recall_fscore_support(y_test,y_test_predict)\n",
    "print('fscore: {}'.format(fscore))"
   ]
  },
  {
   "cell_type": "markdown",
   "metadata": {},
   "source": [
    "  ##  Normalized Discounted Cumulative Gain （NDCG）"
   ]
  },
  {
   "cell_type": "code",
   "execution_count": 27,
   "metadata": {
    "collapsed": false
   },
   "outputs": [
    {
     "name": "stdout",
     "output_type": "stream",
     "text": [
      "CPU times: user 5.31 s, sys: 55.1 ms, total: 5.37 s\n",
      "Wall time: 5.48 s\n",
      "The NDCG socre on test set : 0.20169999999999985\n",
      "CPU times: user 5.51 s, sys: 31.5 ms, total: 5.54 s\n",
      "Wall time: 5.64 s\n",
      "The NDCG socre on test set : 0.20424559267124923\n",
      "CPU times: user 5.98 s, sys: 53.9 ms, total: 6.03 s\n",
      "Wall time: 6.37 s\n",
      "The NDCG socre on test set : 0.25335356287303734\n"
     ]
    }
   ],
   "source": [
    "# Normalized Discounted Cumulative Gain\n",
    "\n",
    "def NDCG_metric(dataset,predict,target,position):\n",
    "    Result_predict = collections.defaultdict(int)\n",
    "    Result_target = collections.defaultdict(int)\n",
    "    Result_normalization = collections.defaultdict(int)\n",
    "\n",
    "    index = 0\n",
    "    \n",
    "    qid = qid_old = dataset['qid'][0]\n",
    "    for i in range(len(dataset)): \n",
    "        qid = dataset['qid'][i]\n",
    "        \n",
    "        if qid != qid_old:\n",
    "            index = 0\n",
    "        \n",
    "        if index < position:\n",
    "            Result_predict[qid] += (np.power(2, predict[i])-1)/(np.log2(index+2))\n",
    "            Result_target[qid] += (np.power(2,  target[i])-1)/(np.log2(index+2))\n",
    "            index += 1\n",
    "            qid_old = qid\n",
    "       \n",
    "    for key in Result_predict.keys():\n",
    "        Result_normalization[key] = Result_predict[key]/Result_target[key] if Result_target[key] > 0 else 0\n",
    "     \n",
    "    data = [Result_predict.values(),Result_target.values(),Result_normalization.values()]\n",
    "    df = pd.DataFrame(data,index=['predict','target','NDCG'],columns=Result_predict.keys())\n",
    "    return df.T\n",
    "\n",
    "order = 1\n",
    "%time NDCG_test = NDCG_metric(testset,y_test_predict,y_test,order)\n",
    "score = np.mean(NDCG_test['NDCG'])\n",
    "print ('The NDCG socre on test set : '  + str(score))\n",
    "order = 3\n",
    "%time NDCG_test = NDCG_metric(testset,y_test_predict,y_test,order)\n",
    "score = np.mean(NDCG_test['NDCG'])\n",
    "print ('The NDCG socre on test set : '  + str(score))\n",
    "order = 10\n",
    "%time NDCG_test = NDCG_metric(testset,y_test_predict,y_test,order)\n",
    "score = np.mean(NDCG_test['NDCG'])\n",
    "print ('The NDCG socre on test set : '  + str(score))"
   ]
  },
  {
   "cell_type": "markdown",
   "metadata": {
    "collapsed": true
   },
   "source": [
    "## Mean Average Precision (MAP)"
   ]
  },
  {
   "cell_type": "code",
   "execution_count": 28,
   "metadata": {
    "collapsed": false
   },
   "outputs": [
    {
     "name": "stdout",
     "output_type": "stream",
     "text": [
      "CPU times: user 6.15 s, sys: 44.3 ms, total: 6.19 s\n",
      "Wall time: 6.43 s\n",
      "The MAP socre on Test set : 0.6121058666284603\n"
     ]
    }
   ],
   "source": [
    "def AP_metric(dataset,predict,target):\n",
    "\n",
    "    Result_K = collections.defaultdict(int)\n",
    "    Result_APK = collections.defaultdict(int)\n",
    "    Result_APN = collections.defaultdict(int)\n",
    "    \n",
    "    index = 0\n",
    "    \n",
    "    qid = qid_old = dataset['qid'][0]\n",
    "    for i in range(len(dataset)): \n",
    "        qid = dataset['qid'][i]\n",
    "        \n",
    "        if qid != qid_old:\n",
    "            index = 0\n",
    "         \n",
    "        Result_K[qid] += 1 if predict[i] == target[i] else 0\n",
    "        Result_APK[qid] += Result_K[qid]/(index+1) if predict[i] == target[i] else 0\n",
    "        index += 1\n",
    "        qid_old = qid \n",
    "      \n",
    "    for key in Result_APK.keys():\n",
    "        Result_APN[key] = Result_APK[key]/Result_K[key] if Result_K[key] > 0 else 0\n",
    "\n",
    "    data = [Result_APN.values(),Result_APK.values(),Result_K.values()]\n",
    "    df = pd.DataFrame(data,index=['APN','APK','K'],columns=Result_APN.keys())\n",
    "    return df.T\n",
    "\n",
    "%time MAP_valid = AP_metric(testset,y_test_predict,y_test)\n",
    "score = np.mean(MAP_valid['APN'])\n",
    "print ('The MAP socre on Test set : ' + str(score))"
   ]
  },
  {
   "cell_type": "code",
   "execution_count": null,
   "metadata": {
    "collapsed": true
   },
   "outputs": [],
   "source": []
  }
 ],
 "metadata": {
  "kernelspec": {
   "display_name": "Python 3",
   "language": "python",
   "name": "python3"
  },
  "language_info": {
   "codemirror_mode": {
    "name": "ipython",
    "version": 3
   },
   "file_extension": ".py",
   "mimetype": "text/x-python",
   "name": "python",
   "nbconvert_exporter": "python",
   "pygments_lexer": "ipython3",
   "version": "3.6.0"
  }
 },
 "nbformat": 4,
 "nbformat_minor": 2
}
