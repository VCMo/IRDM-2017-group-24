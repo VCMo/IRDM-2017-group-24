{
 "cells": [
  {
   "cell_type": "code",
   "execution_count": 1,
   "metadata": {
    "collapsed": true
   },
   "outputs": [],
   "source": [
    "import pandas as pd\n",
    "\n",
    "direc = 'input/MSLR-WEB10K/'\n",
    "folds = [1,2,3,4,5]\n",
    "datasets = ['train','vali','test']\n",
    "\n",
    "paths= [direc + 'Fold' + str(fold) + '/' + sets + '.txt' for fold in folds for sets in datasets]\n",
    "\n",
    "def drop_col(df):\n",
    "    df.drop(df.columns[-1],axis = 1,inplace = True)\n",
    "    \n",
    "def split_semicolon(df):\n",
    "    # removes string naming pattern '*:' from values\n",
    "    for col in range(1,len(df.columns)):\n",
    "        df.loc[:,col] = df.loc[:,col].apply(lambda x: str(x).split(':')[1])\n",
    "    df.columns = ['rel', 'qid'] + [str(x) for x in range(1,137)] # renaming cols\n"
   ]
  },
  {
   "cell_type": "code",
   "execution_count": 2,
   "metadata": {
    "collapsed": false
   },
   "outputs": [
    {
     "name": "stdout",
     "output_type": "stream",
     "text": [
      "1/15\n",
      "2/15\n",
      "3/15\n",
      "4/15\n",
      "5/15\n",
      "6/15\n",
      "7/15\n",
      "8/15\n",
      "9/15\n",
      "10/15\n",
      "11/15\n",
      "12/15\n",
      "13/15\n",
      "14/15\n",
      "15/15\n"
     ]
    }
   ],
   "source": [
    "count = 0\n",
    "for path in paths:\n",
    "    count += 1\n",
    "    print(str(count)+'/'+str(len(paths)))\n",
    "    df = pd.read_csv(str(path), sep=\" \", header = None)\n",
    "    drop_col(df)\n",
    "    split_semicolon(df)\n",
    "    df.to_csv(path[0:-4]+'_cleaned.csv') # saves in: directory/FoldX\n",
    "    del df # freeing up memory for next file"
   ]
  },
  {
   "cell_type": "code",
   "execution_count": 3,
   "metadata": {
    "collapsed": false
   },
   "outputs": [
    {
     "ename": "NameError",
     "evalue": "name 'train' is not defined",
     "output_type": "error",
     "traceback": [
      "\u001b[0;31m---------------------------------------------------------------------------\u001b[0m",
      "\u001b[0;31mNameError\u001b[0m                                 Traceback (most recent call last)",
      "\u001b[0;32m<ipython-input-3-058d1d044437>\u001b[0m in \u001b[0;36m<module>\u001b[0;34m()\u001b[0m\n\u001b[0;32m----> 1\u001b[0;31m \u001b[0mtrain\u001b[0m\u001b[1;33m.\u001b[0m\u001b[0mhead\u001b[0m\u001b[1;33m(\u001b[0m\u001b[1;33m)\u001b[0m\u001b[1;33m\u001b[0m\u001b[0m\n\u001b[0m",
      "\u001b[0;31mNameError\u001b[0m: name 'train' is not defined"
     ]
    }
   ],
   "source": []
  },
  {
   "cell_type": "code",
   "execution_count": null,
   "metadata": {
    "collapsed": true
   },
   "outputs": [],
   "source": []
  },
  {
   "cell_type": "code",
   "execution_count": null,
   "metadata": {
    "collapsed": true
   },
   "outputs": [],
   "source": []
  },
  {
   "cell_type": "code",
   "execution_count": null,
   "metadata": {
    "collapsed": true
   },
   "outputs": [],
   "source": []
  }
 ],
 "metadata": {
  "kernelspec": {
   "display_name": "Python 3",
   "language": "python",
   "name": "python3"
  },
  "language_info": {
   "codemirror_mode": {
    "name": "ipython",
    "version": 3
   },
   "file_extension": ".py",
   "mimetype": "text/x-python",
   "name": "python",
   "nbconvert_exporter": "python",
   "pygments_lexer": "ipython3",
   "version": "3.6.0"
  }
 },
 "nbformat": 4,
 "nbformat_minor": 2
}
