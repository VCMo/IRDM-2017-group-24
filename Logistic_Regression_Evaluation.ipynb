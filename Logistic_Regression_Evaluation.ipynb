{
 "cells": [
  {
   "cell_type": "code",
   "execution_count": 1,
   "metadata": {},
   "outputs": [
    {
     "name": "stdout",
     "output_type": "stream",
     "text": [
      "MSLR-WEB10K\n",
      "Ranklib\n",
      "\n"
     ]
    }
   ],
   "source": [
    "import io\n",
    "import os\n",
    "import sys\n",
    "import math\n",
    "\n",
    "import numpy as np # linear algebra\n",
    "import pandas as pd # data processing, CSV file I/O (e.g. pd.read_csv)\n",
    "import collections\n",
    "\n",
    "from sklearn.ensemble import AdaBoostClassifier\n",
    "from sklearn.tree import DecisionTreeClassifier\n",
    "\n",
    "%matplotlib inline\n",
    "\n",
    "from subprocess import check_output\n",
    "print(check_output([\"ls\", \"../input\"]).decode(\"utf8\"))"
   ]
  },
  {
   "cell_type": "code",
   "execution_count": 2,
   "metadata": {
    "collapsed": true
   },
   "outputs": [],
   "source": [
    "def load_txt(foldDir,foldsize,foldnum):\n",
    "    corpusDir = os.path.join('%s%s' % (inputDir,  os.listdir(foldDir)[foldsize]))\n",
    "    dataDir = os.path.join('%s/%s' % (corpusDir, os.listdir(corpusDir)[foldnum]))\n",
    "    trainDir = os.path.join('%s/%s' % (dataDir, \"train.txt\"))\n",
    "    testDir = os.path.join('%s/%s' % (dataDir, \"test.txt\"))\n",
    "    validDir = os.path.join('%s/%s' % (dataDir, \"vali.txt\"))\n",
    "    return [trainDir,testDir ,validDir]\n",
    "\n",
    "# Dropping column with 100% nan values (parsing problem probably)\n",
    "def drop_col(df):\n",
    "    df.drop(df.columns[-1], axis=1, inplace=True)\n",
    "\n",
    "# Cleaning values\n",
    "def split_semicolon(df):\n",
    "    # removes string naming pattern '*:' from values\n",
    "    for col in range(1,len(df.columns)):\n",
    "        df.loc[:,col] = df.loc[:,col].apply(lambda x: str(x).split(':')[1])\n",
    "    df.columns = ['rel', 'qid'] + [str(x) for x in range(1,137)] # renaming cols"
   ]
  },
  {
   "cell_type": "code",
   "execution_count": 3,
   "metadata": {},
   "outputs": [
    {
     "name": "stdout",
     "output_type": "stream",
     "text": [
      "done\n"
     ]
    }
   ],
   "source": [
    "print(\"done\")"
   ]
  },
  {
   "cell_type": "code",
   "execution_count": 4,
   "metadata": {
    "collapsed": true
   },
   "outputs": [],
   "source": [
    "def load_csv(foldDir,foldsize,foldnum):\n",
    "    corpusDir = os.path.join('%s%s' % (inputDir,  os.listdir(foldDir)[foldsize]))\n",
    "    dataDir = os.path.join('%s/%s' % (corpusDir, os.listdir(corpusDir)[foldsize]))\n",
    "    trainDir = os.path.join('%s/%s' % (dataDir, \"train.csv\"))\n",
    "    testDir = os.path.join('%s/%s' % (dataDir, \"test.csv\"))\n",
    "    validDir = os.path.join('%s/%s' % (dataDir, \"vali.csv\"))\n",
    "    return [trainDir,testDir ,validDir]\n",
    "\n",
    "inputDir = \"../input/\"\n",
    "dataDir = load_csv(inputDir,1,1)\n",
    "\n",
    "trainset = pd.read_csv(dataDir[0])\n",
    "trainset.drop(trainset.columns[0], axis=1, inplace=True)\n",
    "testset  = pd.read_csv(dataDir[1])\n",
    "testset.drop(testset.columns[0], axis=1, inplace=True)\n",
    "validset = pd.read_csv(dataDir[2])\n",
    "validset.drop(validset.columns[0], axis=1, inplace=True)\n",
    "\n",
    "# trainset\n"
   ]
  },
  {
   "cell_type": "code",
   "execution_count": 5,
   "metadata": {
    "collapsed": true
   },
   "outputs": [],
   "source": [
    "class Normarlization():\n",
    "    def __init__(self,train_input,valid_input,test_input,concate_normalize=False):\n",
    "        if concate_normalize == True:\n",
    "            whole_data = np.concatenate((train_input,valid_input,train_input),axis=0)\n",
    "        else:\n",
    "            whole_data = train_input\n",
    "        self.normalize_factor = np.max(whole_data,axis=0)\n",
    "        self.normalize_factor[self.normalize_factor==0] = 1\n",
    "            \n",
    "    def perform_normalize(self,input_data):\n",
    "        return np.divide(input_data,self.normalize_factor)"
   ]
  },
  {
   "cell_type": "code",
   "execution_count": 34,
   "metadata": {},
   "outputs": [],
   "source": [
    "import matplotlib.pyplot as plt\n",
    "from sklearn.metrics import confusion_matrix\n",
    "from sklearn.metrics import f1_score\n",
    "import itertools\n",
    "def plot_confusion_matrix(cm, classes,dataset,\n",
    "                          normalize=False,\n",
    "                          title='Confusion matrix',\n",
    "                          cmap=plt.cm.Blues):\n",
    "\n",
    "    plt.imshow(cm, interpolation='nearest', cmap=cmap)\n",
    "    plt.title(dataset + ' : ' + title)\n",
    "    plt.colorbar()\n",
    "    tick_marks = np.arange(len(classes))\n",
    "    plt.xticks(tick_marks, classes, rotation=45)\n",
    "    plt.yticks(tick_marks, classes)\n",
    "\n",
    "    if normalize:\n",
    "        cm = cm.astype('float') / cm.sum(axis=1)[:, np.newaxis]\n",
    "        print(dataset + \" : Normalized confusion matrix\" )\n",
    "    else:\n",
    "        print(dataset + ' : Confusion matrix, without normalization')\n",
    "\n",
    "    print(cm)\n",
    "\n",
    "    thresh = cm.max() / 2.\n",
    "    for i, j in itertools.product(range(cm.shape[0]), range(cm.shape[1])):\n",
    "        plt.text(j, i, format(cm[i, j], '.2f'),\n",
    "                 horizontalalignment=\"center\",\n",
    "                 color=\"white\" if cm[i, j] > thresh else \"black\")\n",
    "\n",
    "    plt.tight_layout()\n",
    "    plt.ylabel('True label')\n",
    "    plt.xlabel('Predicted label')\n",
    "    \n",
    "    \n",
    "def CM_metric(target,predict,name):   \n",
    "    cnf_matrix = confusion_matrix(target,predict)\n",
    "    np.set_printoptions(precision=2)\n",
    "\n",
    "    # Plot non-normalized confusion matrix\n",
    "    plt.figure()\n",
    "    plot_confusion_matrix(cnf_matrix, classes='01234',dataset = name, normalize=True,\n",
    "                          title='without normalization')\n",
    "    f1_score_data = f1_score(target,predict,average=None)\n",
    "    \n",
    "    return f1_score_data"
   ]
  },
  {
   "cell_type": "code",
   "execution_count": 35,
   "metadata": {
    "collapsed": true
   },
   "outputs": [],
   "source": [
    "def MAP_metric(dataset,predict,target):\n",
    "\n",
    "    Result_K = collections.defaultdict(int)\n",
    "    Result_APK = collections.defaultdict(int)\n",
    "    Result_APN = collections.defaultdict(int)\n",
    "    \n",
    "    index = 0\n",
    "    \n",
    "    qid = qid_old = dataset['qid'][0]\n",
    "    print(len(dataset))\n",
    "    for i in range(len(dataset)): \n",
    "        qid = dataset['qid'][i]\n",
    "        \n",
    "        if qid != qid_old:\n",
    "            index = 0\n",
    "         \n",
    "        Result_K[qid] += 1 if predict[i] == target[i] else 0\n",
    "        Result_APK[qid] += Result_K[qid]/(index+1) if predict[i] == target[i] else 0\n",
    "        index += 1\n",
    "        qid_old = qid \n",
    "      \n",
    "    for key in Result_APK.keys():\n",
    "        Result_APN[key] = Result_APK[key]/Result_K[key] if Result_K[key] > 0 else 0\n",
    "\n",
    "    data = [Result_APN.values(),Result_APK.values(),Result_K.values()]\n",
    "    df = pd.DataFrame(data,index=['APN','APK','K'],columns=Result_APN.keys())\n",
    "    return df.T"
   ]
  },
  {
   "cell_type": "code",
   "execution_count": 38,
   "metadata": {
    "collapsed": true
   },
   "outputs": [],
   "source": [
    "import random\n",
    "from numpy import inf\n",
    "\n",
    "def NDCG_metric(dataset,predict,target,position):\n",
    "    Result_predict = collections.defaultdict(int)\n",
    "    Result_target = collections.defaultdict(int)\n",
    "    Result_normalization = collections.defaultdict(int)\n",
    "\n",
    "    index = 0\n",
    "    \n",
    "    qid = qid_old = dataset['qid'][0]\n",
    "    for i in range(len(dataset)): \n",
    "        qid = dataset['qid'][i]\n",
    "        \n",
    "        if qid != qid_old:\n",
    "            index = 0\n",
    "        \n",
    "        if index < position:\n",
    "            Result_predict[qid] += (np.power(2, predict[i])-1)/(np.log2(index+2))\n",
    "            Result_target[qid] += (np.power(2,  target[i])-1)/(np.log2(index+2))\n",
    "            index += 1\n",
    "            qid_old = qid\n",
    "       \n",
    "    for key in Result_predict.keys():\n",
    "        Result_normalization[key] = Result_predict[key]/Result_target[key] if Result_target[key] > 0 else 0\n",
    "     \n",
    "    data = [Result_predict.values(),Result_target.values(),Result_normalization.values()]\n",
    "    df = pd.DataFrame(data,index=['predict','target','NDCG'],columns=Result_predict.keys())\n",
    "    return df.T\n",
    "\n",
    "\n",
    "def sigmoid_f(z):\n",
    "    z = -z\n",
    "    z = np.exp(z)\n",
    "    z = 1+z\n",
    "    z = 1/z\n",
    "    return z\n",
    "\n",
    "def softmax(x):\n",
    "#     print(np.exp(x))\n",
    "    # Robust Softmax\n",
    "    exp_x = np.exp(x)\n",
    "    exp_x[exp_x==inf] = 1e10\n",
    "    return (exp_x.T / np.sum(exp_x, axis=1)).T\n",
    "\n",
    "def logistic_evaluation(X_train, y_train, X_validation=None, y_validation=None, X_test=None, y_test=None, model_path=\"../model/logistic_w.npy\", lambda_v=0):\n",
    "    nomarlizer = Normarlization(train_input=X_train, valid_input=X_valid, test_input=X_test,concate_normalize=False)\n",
    "    print(\"normalizing train\")\n",
    "    X_train = nomarlizer.perform_normalize(X_train)\n",
    "    X_train = np.append(X_train, np.ones((X_train.shape[0], 1)), axis=1)\n",
    "    n_data = X_train.shape[0]\n",
    "    print(X_train.shape,y_train.shape)\n",
    "    \n",
    "    try:\n",
    "        w = np.load(model_path)\n",
    "    except Exception as e:\n",
    "        print(\"The model of logistic regression doesn't exist\")\n",
    "        print(e)\n",
    "        import sys\n",
    "        sys.exit()\n",
    "\n",
    "    test_accuracy = \"\"\n",
    "    validation_accuracy = \"\"\n",
    "    \n",
    "    test_flag = 0\n",
    "    if type(X_test) != type(None) and type(y_test) != type(None):\n",
    "        print(\"normalizing test\")\n",
    "        test_flag = 1\n",
    "        X_test = nomarlizer.perform_normalize(X_test)\n",
    "        X_test = np.append(X_test, np.ones((X_test.shape[0], 1)), axis=1)\n",
    "\n",
    "\n",
    "    validation_flag = 0\n",
    "    if type(X_validation) != type(None) and type(y_validation) != type(None):\n",
    "        print(\"normalizing validation\")\n",
    "        validation_flag = 1\n",
    "        X_validation = nomarlizer.perform_normalize(X_validation)\n",
    "        X_validation = np.append(X_validation, np.ones((X_validation.shape[0], 1)), axis=1)\n",
    "\n",
    "\n",
    "    print(\"Test the result\")\n",
    "    #logistic core codes\n",
    "    y_pre = softmax(np.matmul(X_train, w))\n",
    "    delta = (y_pre - y_train).T\n",
    "    D = np.matmul(delta, X_train).T\n",
    "    \n",
    "    #Evaluation\n",
    "    y_pre = softmax(np.matmul(X_train, w))\n",
    "    y_pre_value = np.argmax(y_pre, axis=1)\n",
    "    y_train_value = np.argmax(y_train, axis=1)\n",
    "    train_accuracy = sum(np.equal(y_pre_value, y_train_value)) / X_train.shape[0]\n",
    "\n",
    "    if test_flag:\n",
    "        y_test_pre_value = np.argmax(softmax(np.matmul(X_test, w)), axis=1)\n",
    "        y_test_value = np.argmax(y_test, axis=1)\n",
    "        test_accuracy = sum(np.equal(y_test_pre_value, y_test_value)) / X_test.shape[0]\n",
    "        NDCG_test_1 = NDCG_metric(testset,y_test_pre_value,y_test_value,1)\n",
    "        NDCG_test_3 = NDCG_metric(testset,y_test_pre_value,y_test_value,3)\n",
    "        NDCG_test_5 = NDCG_metric(testset,y_test_pre_value,y_test_value,5)\n",
    "        NDCG_test_10 = NDCG_metric(testset,y_test_pre_value,y_test_value,10)\n",
    "        MAP_test = MAP_metric(testset,y_test_pre_value,y_test_value)\n",
    "#         print(MAP_test)\n",
    "        print(test_accuracy)\n",
    "        score_NDCG_1 = np.mean(NDCG_test_1['NDCG'])\n",
    "        score_NDCG_3 = np.mean(NDCG_test_3['NDCG'])\n",
    "        score_NDCG_5 = np.mean(NDCG_test_5['NDCG'])\n",
    "        score_NDCG_10 = np.mean(NDCG_test_10['NDCG'])\n",
    "        score_MAP = np.mean(MAP_test['APN'])\n",
    "\n",
    "        print ('The NDCG socre on test set :')\n",
    "        print('NDCG@1:',str(score_NDCG_1))\n",
    "        print('NDCG@3:',str(score_NDCG_3))\n",
    "        print('NDCG@5:',str(score_NDCG_5))\n",
    "        print('NDCG@10:',str(score_NDCG_10))\n",
    "        print('MAP score:',str(score_MAP))\n",
    "        print('Test accuracy is:',str())\n",
    "        \n",
    "        print(y_test_pre_value[0:30])\n",
    "        print(y_test_value[0:30])\n",
    "        \n",
    "        score_f1 = CM_metric(y_test_value,y_test_pre_value,'Testset')\n",
    "        \n",
    "        print('F1_score is:',score_f1)\n",
    "\n",
    "    if validation_flag:\n",
    "        y_validation_pre_value = np.argmax(softmax(np.matmul(X_validation, w)), axis=1)\n",
    "        y_validation_value = np.argmax(y_validation, axis=1)\n",
    "        validation_accuracy = sum(np.equal(y_validation_pre_value, y_validation_value)) / X_validation.shape[0]\n",
    "\n",
    "    y_pre_log = np.log(y_pre)\n",
    "    y_pre_log[y_pre_log==-inf] = -5000\n",
    "    y_pre_log_Complement = np.log(1 - y_pre)\n",
    "    y_pre_log_Complement[y_pre_log_Complement==-inf] = -5000\n",
    "    m = y_train.shape[0]\n",
    "    cost = -1 / m * sum(sum((y_train * y_pre_log + (1 - y_train) * y_pre_log_Complement)))\n",
    "    print('The corresponding training cross-entropy loss is:\\n')\n",
    "    print(str(cost))"
   ]
  },
  {
   "cell_type": "code",
   "execution_count": 31,
   "metadata": {
    "collapsed": true
   },
   "outputs": [],
   "source": [
    "trainset_sort = trainset.sort_values(by=['qid','rel'],ascending=False)\n",
    "validset_sort = validset.sort_values(by=['qid','rel'],ascending=False)\n",
    "testset_sort = testset.sort_values(by=['qid','rel'],ascending=False)\n",
    "\n",
    "y_train = trainset_sort['rel'].values\n",
    "X_train = trainset_sort.drop(['rel','qid'],axis=1).values\n",
    "\n",
    "y_valid = validset_sort['rel'].values\n",
    "X_valid = validset_sort.drop(['rel','qid'],axis=1).values\n",
    "\n",
    "y_test = testset_sort['rel'].values\n",
    "X_test = testset_sort.drop(['rel','qid'],axis=1).values\n",
    "\n",
    "y_train_one_hot = np.zeros((y_train.shape[0],5))\n",
    "y_train_one_hot[np.arange(y_train.shape[0]), y_train] = 1\n",
    "\n",
    "y_vali_one_hot = np.zeros((y_valid.shape[0],5))\n",
    "y_vali_one_hot[np.arange(y_valid.shape[0]), y_valid] = 1\n",
    "\n",
    "y_test_one_hot = np.zeros((y_test.shape[0],5))\n",
    "y_test_one_hot[np.arange(y_test.shape[0]), y_test] = 1"
   ]
  },
  {
   "cell_type": "code",
   "execution_count": 39,
   "metadata": {
    "scrolled": true
   },
   "outputs": [
    {
     "name": "stdout",
     "output_type": "stream",
     "text": [
      "normalizing train\n",
      "(723412, 137) (723412, 5)\n",
      "normalizing test\n",
      "normalizing validation\n",
      "Test the result\n"
     ]
    },
    {
     "name": "stderr",
     "output_type": "stream",
     "text": [
      "/Library/Frameworks/Python.framework/Versions/3.5/lib/python3.5/site-packages/ipykernel_launcher.py:42: RuntimeWarning: overflow encountered in exp\n"
     ]
    },
    {
     "name": "stdout",
     "output_type": "stream",
     "text": [
      "241521\n",
      "0.406792784064\n",
      "The NDCG socre on test set :\n",
      "NDCG@1: 0.743952380952\n",
      "NDCG@3: 0.765365698867\n",
      "NDCG@5: 0.805095375753\n",
      "NDCG@10: 0.94752927264\n",
      "MAP score: 0.489502288686\n",
      "Test accuracy is: \n",
      "[2 0 0 0 0 2 0 0 0 0 2 2 2 0 2 2 0 0 2 0 0 0 2 0 0 0 0 0 0 0]\n",
      "[2 2 2 2 2 2 2 2 2 2 2 2 2 2 2 2 1 1 1 1 1 1 1 1 1 1 1 1 1 1]\n",
      "Testset : Normalized confusion matrix\n",
      "[[  6.00e-01   2.99e-02   3.57e-01   1.24e-02   1.21e-03]\n",
      " [  3.63e-01   1.92e-02   6.08e-01   9.73e-03   1.41e-04]\n",
      " [  2.98e-01   1.96e-02   6.74e-01   8.23e-03   3.08e-05]\n",
      " [  2.93e-01   2.47e-02   6.74e-01   8.54e-03   0.00e+00]\n",
      " [  2.77e-01   2.43e-02   6.87e-01   1.09e-02   0.00e+00]]\n",
      "F1_score is: [ 0.63  0.04  0.29  0.01  0.  ]\n"
     ]
    },
    {
     "name": "stderr",
     "output_type": "stream",
     "text": [
      "/Library/Frameworks/Python.framework/Versions/3.5/lib/python3.5/site-packages/ipykernel_launcher.py:130: RuntimeWarning: divide by zero encountered in log\n",
      "/Library/Frameworks/Python.framework/Versions/3.5/lib/python3.5/site-packages/ipykernel_launcher.py:132: RuntimeWarning: divide by zero encountered in log\n"
     ]
    },
    {
     "name": "stdout",
     "output_type": "stream",
     "text": [
      "The corresponding training cross-entropy loss is:\n",
      "\n",
      "2744.7209294\n"
     ]
    },
    {
     "data": {
      "image/png": "[encoded data removed]",
      "text/plain": [
       "<matplotlib.figure.Figure at 0x10ac3a6a0>"
      ]
     },
     "metadata": {},
     "output_type": "display_data"
    }
   ],
   "source": [
    "logistic_evaluation(model_path=\"./logistic_w_1e-3.npy\", X_train=X_train, y_train=y_train_one_hot, X_validation=X_valid,\n",
    "               y_validation=y_vali_one_hot, X_test=X_test, y_test=y_test_one_hot, lambda_v=0)"
   ]
  },
  {
   "cell_type": "code",
   "execution_count": null,
   "metadata": {
    "collapsed": true
   },
   "outputs": [],
   "source": []
  }
 ],
 "metadata": {
  "kernelspec": {
   "display_name": "Python 3",
   "language": "python",
   "name": "python3"
  },
  "language_info": {
   "codemirror_mode": {
    "name": "ipython",
    "version": 3
   },
   "file_extension": ".py",
   "mimetype": "text/x-python",
   "name": "python",
   "nbconvert_exporter": "python",
   "pygments_lexer": "ipython3",
   "version": "3.5.2"
  }
 },
 "nbformat": 4,
 "nbformat_minor": 2
}
